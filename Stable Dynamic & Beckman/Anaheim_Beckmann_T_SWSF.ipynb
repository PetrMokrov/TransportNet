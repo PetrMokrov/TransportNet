{
 "cells": [
  {
   "cell_type": "code",
   "execution_count": 1,
   "id": "f5198308-43f6-4154-8a48-69e9f531142d",
   "metadata": {},
   "outputs": [],
   "source": [
    "from collections import defaultdict\n",
    "import subprocess"
   ]
  },
  {
   "cell_type": "markdown",
   "id": "ec5faaf8-7450-4c0b-a574-dab66f6f2887",
   "metadata": {},
   "source": [
    "### Запускаем все эксерименты для `ugd` и `ustm` единой коммандой"
   ]
  },
  {
   "cell_type": "markdown",
   "id": "ffdf7dab-6d1c-4a4a-a817-0552ce0b983b",
   "metadata": {},
   "source": [
    "Номера `[0, 1, 2]`"
   ]
  },
  {
   "cell_type": "code",
   "execution_count": 5,
   "id": "9aa946bd-ff59-455e-a8a4-75142326ec01",
   "metadata": {},
   "outputs": [],
   "source": [
    "all_commands = \"\"\n",
    "for method in ['ustm',]:\n",
    "    for sp in ['dijkstra', 'tradeoff']:\n",
    "        for eps_number in range(3):\n",
    "            all_commands = all_commands + f\"/home/pvmokrov/miniconda3/bin/python launch_B.py --method {method} --sp {sp} --eps_number {eps_number} & \"\n",
    "all_commands = all_commands[:-3]"
   ]
  },
  {
   "cell_type": "code",
   "execution_count": 6,
   "id": "52c02521-83b9-44e1-911b-51d1fcb53a64",
   "metadata": {},
   "outputs": [
    {
     "data": {
      "text/plain": [
       "'/home/pvmokrov/miniconda3/bin/python launch_B.py --method ustm --sp dijkstra --eps_number 0 & /home/pvmokrov/miniconda3/bin/python launch_B.py --method ustm --sp dijkstra --eps_number 1 & /home/pvmokrov/miniconda3/bin/python launch_B.py --method ustm --sp dijkstra --eps_number 2 & /home/pvmokrov/miniconda3/bin/python launch_B.py --method ustm --sp tradeoff --eps_number 0 & /home/pvmokrov/miniconda3/bin/python launch_B.py --method ustm --sp tradeoff --eps_number 1 & /home/pvmokrov/miniconda3/bin/python launch_B.py --method ustm --sp tradeoff --eps_number 2'"
      ]
     },
     "execution_count": 6,
     "metadata": {},
     "output_type": "execute_result"
    }
   ],
   "source": [
    "all_commands"
   ]
  },
  {
   "cell_type": "code",
   "execution_count": 7,
   "id": "6f4e0022-2519-42ee-bc00-3e5af2bc4f73",
   "metadata": {},
   "outputs": [
    {
     "data": {
      "text/plain": [
       "CompletedProcess(args='/home/pvmokrov/miniconda3/bin/python launch_B.py --method ustm --sp dijkstra --eps_number 0 & /home/pvmokrov/miniconda3/bin/python launch_B.py --method ustm --sp dijkstra --eps_number 1 & /home/pvmokrov/miniconda3/bin/python launch_B.py --method ustm --sp dijkstra --eps_number 2 & /home/pvmokrov/miniconda3/bin/python launch_B.py --method ustm --sp tradeoff --eps_number 0 & /home/pvmokrov/miniconda3/bin/python launch_B.py --method ustm --sp tradeoff --eps_number 1 & /home/pvmokrov/miniconda3/bin/python launch_B.py --method ustm --sp tradeoff --eps_number 2', returncode=0)"
      ]
     },
     "execution_count": 7,
     "metadata": {},
     "output_type": "execute_result"
    }
   ],
   "source": [
    "subprocess.run(\n",
    "    all_commands, \n",
    "    shell=True, \n",
    "    stdout=subprocess.DEVNULL,\n",
    "    stderr=subprocess.STDOUT)"
   ]
  },
  {
   "cell_type": "markdown",
   "id": "bec772e8-0695-4e77-8de6-8179885915d2",
   "metadata": {},
   "source": [
    "Номера `[3, 4, 5]`"
   ]
  },
  {
   "cell_type": "code",
   "execution_count": 25,
   "id": "d698800b-f92c-4e48-a824-df56589a4814",
   "metadata": {},
   "outputs": [],
   "source": [
    "all_commands = \"\"\n",
    "for method in ['ustm',]:\n",
    "    for sp in ['dijkstra', 'tradeoff']:\n",
    "        for eps_number in range(3, 6):\n",
    "            all_commands = all_commands + f\"/home/pvmokrov/miniconda3/bin/python launch_B.py --method {method} --sp {sp} --eps_number {eps_number} & \"\n",
    "all_commands = all_commands[:-3]"
   ]
  },
  {
   "cell_type": "code",
   "execution_count": 26,
   "id": "a8ba8481-523d-4202-94ed-345ec960a1ed",
   "metadata": {},
   "outputs": [
    {
     "data": {
      "text/plain": [
       "'/home/pvmokrov/miniconda3/bin/python launch_B.py --method ustm --sp dijkstra --eps_number 3 & /home/pvmokrov/miniconda3/bin/python launch_B.py --method ustm --sp dijkstra --eps_number 4 & /home/pvmokrov/miniconda3/bin/python launch_B.py --method ustm --sp dijkstra --eps_number 5 & /home/pvmokrov/miniconda3/bin/python launch_B.py --method ustm --sp tradeoff --eps_number 3 & /home/pvmokrov/miniconda3/bin/python launch_B.py --method ustm --sp tradeoff --eps_number 4 & /home/pvmokrov/miniconda3/bin/python launch_B.py --method ustm --sp tradeoff --eps_number 5'"
      ]
     },
     "execution_count": 26,
     "metadata": {},
     "output_type": "execute_result"
    }
   ],
   "source": [
    "all_commands"
   ]
  },
  {
   "cell_type": "code",
   "execution_count": null,
   "id": "6d9db5a4-b5c9-4d69-8d25-019ef7ddace0",
   "metadata": {},
   "outputs": [],
   "source": [
    "subprocess.run(\n",
    "    all_commands, \n",
    "    shell=True, \n",
    "    stdout=subprocess.DEVNULL,\n",
    "    stderr=subprocess.STDOUT)"
   ]
  },
  {
   "cell_type": "markdown",
   "id": "3c519a39-c478-471c-aa9e-858f3576f72a",
   "metadata": {},
   "source": [
    "Номера `[6, 7, 8]`"
   ]
  },
  {
   "cell_type": "code",
   "execution_count": 24,
   "id": "a62b2b8a-aea5-4f39-aea6-6c85b332864e",
   "metadata": {},
   "outputs": [],
   "source": [
    "all_commands = \"\"\n",
    "for method in ['ugd', 'ustm']:\n",
    "    for sp in ['dijkstra', 't_swsf', 'tradeoff']:\n",
    "        for eps_number in range(6, 9):\n",
    "            all_commands = all_commands + f\"/home/pvmokrov/miniconda3/bin/python launch_B.py --method {method} --sp {sp} --eps_number {eps_number} & \"\n",
    "all_commands = all_commands[:-3]"
   ]
  },
  {
   "cell_type": "code",
   "execution_count": null,
   "id": "1e15a8ec-a2c0-4ae2-9062-38b8dc9b2329",
   "metadata": {},
   "outputs": [],
   "source": [
    "subprocess.run(\n",
    "    all_commands, \n",
    "    shell=True, \n",
    "    stdout=subprocess.DEVNULL,\n",
    "    stderr=subprocess.STDOUT)"
   ]
  },
  {
   "cell_type": "markdown",
   "id": "d341fdaf-9283-484c-b842-099d0cb1efe9",
   "metadata": {},
   "source": [
    "## Plots"
   ]
  },
  {
   "cell_type": "code",
   "execution_count": 2,
   "id": "d92297f1-35e9-4085-a78b-a2bf221e0170",
   "metadata": {},
   "outputs": [],
   "source": [
    "%matplotlib inline\n",
    "from matplotlib import pyplot as plt\n",
    "import pickle\n",
    "import numpy as np\n",
    "beckmann_save = 'beckmann_results/'"
   ]
  },
  {
   "cell_type": "code",
   "execution_count": 3,
   "id": "88d37043-e50c-4b32-8506-3ad6439dc2fd",
   "metadata": {},
   "outputs": [],
   "source": [
    "results = {}\n",
    "# 'elapsed_time'\n",
    "# open(sd_save + 'anaheim_result_' + solver_method + '_sp_' + args.sp + '_eps_abs_' + str(eps_number) + '_SD.pickle', 'wb')\n",
    "\n",
    "for method in ['ustm', 'ugd']:\n",
    "    results[method] = {}\n",
    "    for sp in ['dijkstra', 'tradeoff']:\n",
    "        sp_results = defaultdict(list)\n",
    "        i = 0\n",
    "        while True:\n",
    "            try:\n",
    "                with open(beckmann_save + 'anaheim_result_' + method + '_sp_' + sp + '_eps_abs_'\n",
    "                          + str(i) + '_beckmann.pickle', 'rb') as f:\n",
    "                    result = pickle.load(f)\n",
    "                    sp_results['epsilon'].append(result['eps_abs'])\n",
    "                    sp_results['iters'].append(result['iter_num'])\n",
    "                    sp_results['inner_iters'].append(result['history'].get('inner_iters')[-1])\n",
    "                    sp_results['dual_gap_init'].append(result['history'].get('dual_gap')[0])\n",
    "                    sp_results['elapsed_time'].append(result['elapsed_time'])\n",
    "            except FileNotFoundError:\n",
    "                break\n",
    "            i += 1\n",
    "        results[method][sp] = sp_results"
   ]
  },
  {
   "cell_type": "code",
   "execution_count": 4,
   "id": "263316ce-c4ff-43f2-aaa4-698f194b9be0",
   "metadata": {},
   "outputs": [
    {
     "data": {
      "image/png": "[encoded data removed]",
      "text/plain": [
       "<Figure size 648x432 with 1 Axes>"
      ]
     },
     "metadata": {
      "needs_background": "light"
     },
     "output_type": "display_data"
    }
   ],
   "source": [
    "plt.figure(figsize=(9,6))\n",
    "#plt.title('Convergence for Stable Dynamics model', fontsize=20)\n",
    "colormap = {'ustm': 'red', 'ugd': 'blue'}\n",
    "linemap = {'dijkstra': '-', 't_swsf': '--', 'tradeoff': ':'}\n",
    "for method in ['ustm', 'ugd']:\n",
    "    color = colormap[method]\n",
    "    for sp in ['dijkstra', 'tradeoff']:\n",
    "        linetype = linemap[sp]\n",
    "        x = 1./np.array(results[method][sp]['epsilon'])\n",
    "        y = np.array(results[method][sp]['elapsed_time'])\n",
    "        lbl = method + '_' + sp\n",
    "        plt.plot(x, y, linetype, color=color, label = lbl)\n",
    "plt.legend(prop = {'size' : 11})\n",
    "plt.xscale('log')\n",
    "plt.yscale('log')\n",
    "plt.xlabel(r'1 / $\\varepsilon$', fontsize = 14)\n",
    "plt.ylabel('elapsed time', fontsize = 14)\n",
    "#plt.savefig('SD_convergence_1.jpg', dpi = 300)\n",
    "plt.show()"
   ]
  },
  {
   "cell_type": "code",
   "execution_count": null,
   "id": "22a0963c-5dfe-47b9-afa6-6cb95a960443",
   "metadata": {},
   "outputs": [],
   "source": []
  }
 ],
 "metadata": {
  "kernelspec": {
   "display_name": "condakernel",
   "language": "python",
   "name": "condakernel"
  },
  "language_info": {
   "codemirror_mode": {
    "name": "ipython",
    "version": 3
   },
   "file_extension": ".py",
   "mimetype": "text/x-python",
   "name": "python",
   "nbconvert_exporter": "python",
   "pygments_lexer": "ipython3",
   "version": "3.8.12"
  },
  "widgets": {
   "application/vnd.jupyter.widget-state+json": {
    "state": {},
    "version_major": 2,
    "version_minor": 0
   }
  }
 },
 "nbformat": 4,
 "nbformat_minor": 5
}
